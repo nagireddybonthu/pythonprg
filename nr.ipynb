{
 "cells": [
  {
   "cell_type": "code",
   "execution_count": 33,
   "metadata": {},
   "outputs": [
    {
     "name": "stdout",
     "output_type": "stream",
     "text": [
      "Hello world\n"
     ]
    }
   ],
   "source": [
    "#write a statement to print \"hello world\" by using shell\n",
    "print(\"Hello world\")"
   ]
  },
  {
   "cell_type": "code",
   "execution_count": 34,
   "metadata": {},
   "outputs": [
    {
     "name": "stdout",
     "output_type": "stream",
     "text": [
      "50\n"
     ]
    }
   ],
   "source": [
    "#was to intialize variable and value as 50\n",
    "a=50\n",
    "print(a)"
   ]
  },
  {
   "cell_type": "code",
   "execution_count": 35,
   "metadata": {},
   "outputs": [
    {
     "name": "stdout",
     "output_type": "stream",
     "text": [
      "150 200 250\n"
     ]
    }
   ],
   "source": [
    "#was to intialize multi variables are 150,200,250(take your own variables)\n",
    "a,b,c=150,200,250\n",
    "print(a,b,c)"
   ]
  },
  {
   "cell_type": "code",
   "execution_count": 36,
   "metadata": {},
   "outputs": [
    {
     "name": "stdout",
     "output_type": "stream",
     "text": [
      "10 12.15 (2+4j) b'1010' True 10,20,a,b [1, 2, 3, 4, 5] (100, 200, 300) {10, 50, 30} {'a': 100, '10': 200}\n"
     ]
    }
   ],
   "source": [
    "#was to print the type of the data\n",
    "a=10\n",
    "b=12.15\n",
    "c=2+4j\n",
    "d=b'1010'\n",
    "e=True\n",
    "f='10,20,a,b'\n",
    "g=[1,2,3,4,5]\n",
    "h=(100,200,300)\n",
    "i={10,30,50}\n",
    "j={'a':100,'10':200}\n",
    "print(a,b,c,d,e,f,g,h,i,j)"
   ]
  },
  {
   "cell_type": "code",
   "execution_count": 37,
   "metadata": {},
   "outputs": [
    {
     "data": {
      "text/plain": [
       "140713506367496"
      ]
     },
     "execution_count": 37,
     "metadata": {},
     "output_type": "execute_result"
    }
   ],
   "source": [
    "#was to print the address of the memory blockin given value\n",
    "t=40\n",
    "id(t)"
   ]
  },
  {
   "cell_type": "code",
   "execution_count": 38,
   "metadata": {},
   "outputs": [
    {
     "name": "stdout",
     "output_type": "stream",
     "text": [
      "[10, 20, 30]\n"
     ]
    }
   ],
   "source": [
    "#was to print your details,first store your details,extract the values and display it\n",
    "\n",
    "a=[10,20,30]\n",
    "print(a)"
   ]
  },
  {
   "cell_type": "code",
   "execution_count": 39,
   "metadata": {},
   "outputs": [
    {
     "name": "stdout",
     "output_type": "stream",
     "text": [
      "20 10\n"
     ]
    }
   ],
   "source": [
    "##was to swap the two values\n",
    "a=10\n",
    "b=20\n",
    "temp=a\n",
    "a=b\n",
    "b=temp\n",
    "print(a,b)"
   ]
  },
  {
   "cell_type": "code",
   "execution_count": 40,
   "metadata": {},
   "outputs": [
    {
     "name": "stdout",
     "output_type": "stream",
     "text": [
      "2 1\n"
     ]
    }
   ],
   "source": [
    "##was to swap the two values without using temp\n",
    "a=1\n",
    "b=2\n",
    "a,b=b,a\n",
    "print(a,b)"
   ]
  },
  {
   "cell_type": "code",
   "execution_count": 41,
   "metadata": {},
   "outputs": [
    {
     "name": "stdout",
     "output_type": "stream",
     "text": [
      "10\n",
      "['1', '0']\n"
     ]
    }
   ],
   "source": [
    "#was to convert single to multiple value data type\n",
    "a=10\n",
    "a=str(a)\n",
    "print(a)\n",
    "a=list(a)\n",
    "print(a)"
   ]
  },
  {
   "cell_type": "code",
   "execution_count": 1,
   "metadata": {},
   "outputs": [
    {
     "name": "stdout",
     "output_type": "stream",
     "text": [
      "10\n",
      "20\n"
     ]
    }
   ],
   "source": [
    "#was to intialize value and print value,after print the value,yhen reintialize the new value to the existing var & display the value\n",
    "a=10\n",
    "print(a)\n",
    "a=20\n",
    "print(a)"
   ]
  },
  {
   "cell_type": "code",
   "execution_count": 3,
   "metadata": {},
   "outputs": [
    {
     "name": "stdout",
     "output_type": "stream",
     "text": [
      "helloworld\n",
      "[10, 20, 30, 50, 60, 70]\n",
      "(100, 200, 300, 400, 600, 800)\n",
      "{1, 2, 3, 4, 5, 6, 7}\n",
      "{10: 20, 30: 40, 'a': 'b', 'c': 'd'}\n"
     ]
    }
   ],
   "source": [
    "#was to concat the two multi values data type(str,list,tuple,set.dict)\n",
    "s='hello'\n",
    "s+='world'\n",
    "print(s)\n",
    "l=[10,20,30]\n",
    "l+=[50,60,70]\n",
    "print(l)\n",
    "t=(100,200,300)\n",
    "t+=(400,600,800)\n",
    "print(t)\n",
    "s={1,2,3,4}\n",
    "s|={5,6,7}\n",
    "print(s)\n",
    "d={10:20,30:40}\n",
    "d|={'a':'b','c':'d'}\n",
    "print(d)"
   ]
  },
  {
   "cell_type": "code",
   "execution_count": 5,
   "metadata": {},
   "outputs": [
    {
     "data": {
      "text/plain": [
       "3"
      ]
     },
     "execution_count": 5,
     "metadata": {},
     "output_type": "execute_result"
    }
   ],
   "source": [
    "#was to check the length of collection\n",
    "x={10:20,'a':'xyz','b':100}\n",
    "len(x)"
   ]
  },
  {
   "cell_type": "code",
   "execution_count": 11,
   "metadata": {},
   "outputs": [
    {
     "data": {
      "text/plain": [
       "5"
      ]
     },
     "execution_count": 11,
     "metadata": {},
     "output_type": "execute_result"
    }
   ],
   "source": [
    "#wae to check the find out the middle value of the given collection\n",
    "a=[1,2,3,4,5,6,7,7]\n",
    "a[len(a)//2]"
   ]
  },
  {
   "cell_type": "code",
   "execution_count": 13,
   "metadata": {},
   "outputs": [
    {
     "name": "stdout",
     "output_type": "stream",
     "text": [
      "hellohii\n"
     ]
    }
   ],
   "source": [
    "#was to concat the new string into the starting of the string\n",
    "a='hii'\n",
    "b='hello'\n",
    "a=b+a\n",
    "print(a)"
   ]
  },
  {
   "cell_type": "code",
   "execution_count": 14,
   "metadata": {},
   "outputs": [
    {
     "name": "stdout",
     "output_type": "stream",
     "text": [
      "hiiare doing good\n"
     ]
    }
   ],
   "source": [
    "#was to concat the new string into the ending of the string\n",
    "a='hii'\n",
    "b='are doing good'\n",
    "a=a+b\n",
    "print(a)"
   ]
  },
  {
   "cell_type": "code",
   "execution_count": null,
   "metadata": {},
   "outputs": [],
   "source": []
  },
  {
   "cell_type": "code",
   "execution_count": 27,
   "metadata": {},
   "outputs": [
    {
     "name": "stdout",
     "output_type": "stream",
     "text": [
      "hii raawhats up\n"
     ]
    }
   ],
   "source": [
    "#was to concat the new string into the middle of the string\n",
    "a='hii bro whats up'\n",
    "print(a[0:4]+'raa'+a[8:16])"
   ]
  },
  {
   "cell_type": "code",
   "execution_count": 34,
   "metadata": {},
   "outputs": [
    {
     "name": "stdout",
     "output_type": "stream",
     "text": [
      "hii how aNe you man\n"
     ]
    }
   ],
   "source": [
    "#was to modify the new characterr in the middle of the string\n",
    "b='hii how are you man'\n",
    "print(b[0:(len(b)//2)]+'N'+b[(len(b)//2)+1:])"
   ]
  },
  {
   "cell_type": "code",
   "execution_count": 30,
   "metadata": {},
   "outputs": [
    {
     "name": "stdout",
     "output_type": "stream",
     "text": [
      "vvitmylg\n"
     ]
    }
   ],
   "source": [
    "#was to modify the new chazracter in given string\n",
    "c='vvit clg'\n",
    "print(c[0:4]+'my'+c[6:])"
   ]
  },
  {
   "cell_type": "code",
   "execution_count": 31,
   "metadata": {},
   "outputs": [
    {
     "name": "stdout",
     "output_type": "stream",
     "text": [
      "reddy\n"
     ]
    }
   ],
   "source": [
    "#was to replace the old character into anew character of the given string\n",
    "d='reedy'\n",
    "print(d[0:2]+'d'+d[3:])"
   ]
  },
  {
   "cell_type": "code",
   "execution_count": 33,
   "metadata": {},
   "outputs": [
    {
     "name": "stdout",
     "output_type": "stream",
     "text": [
      "Athadu\n"
     ]
    }
   ],
   "source": [
    "#was to delete the specific character in given string\n",
    "e='Athaddu'\n",
    "print(e[0:5]+e[6:])"
   ]
  },
  {
   "cell_type": "code",
   "execution_count": 36,
   "metadata": {},
   "outputs": [
    {
     "name": "stdout",
     "output_type": "stream",
     "text": [
      "business man is the super movie\n"
     ]
    }
   ],
   "source": [
    "#was to modify the new string into the specific position of given string\n",
    "f='business is the super movie'\n",
    "print(f[0:9]+'man'+f[8:])"
   ]
  },
  {
   "cell_type": "code",
   "execution_count": 38,
   "metadata": {},
   "outputs": [
    {
     "name": "stdout",
     "output_type": "stream",
     "text": [
      "guntur karam will be the blockbuster\n"
     ]
    }
   ],
   "source": [
    "#was to delete the sequence of characters\n",
    "g='guntur karam is will be the blockbuster'\n",
    "print(g[0:12]+g[15:])"
   ]
  },
  {
   "cell_type": "code",
   "execution_count": 41,
   "metadata": {},
   "outputs": [
    {
     "name": "stdout",
     "output_type": "stream",
     "text": [
      "[400, 500, 100, 200, 300]\n",
      "['a', 'b', 'c', 1, 2, 3, 4, 5]\n"
     ]
    }
   ],
   "source": [
    "#was to concat the new value to the starting of the gien list\n",
    "h=[100,200,300]\n",
    "h=[400,500]+h\n",
    "print(h)\n",
    "i=[1,2,3,4,5]\n",
    "i[0:0]=['a','b','c']\n",
    "print(i)"
   ]
  },
  {
   "cell_type": "code",
   "execution_count": 42,
   "metadata": {},
   "outputs": [
    {
     "name": "stdout",
     "output_type": "stream",
     "text": [
      "[10, 20, 30, 40, 50, 60]\n",
      "['abc', 'ghij', 'uvw', 'xyz']\n"
     ]
    }
   ],
   "source": [
    "#was to concat the new value to the ending of the gien list\n",
    "j=[10,20,30]\n",
    "j=j+[40,50,60]\n",
    "print(j)\n",
    "k=['abc','ghij']\n",
    "k+=['uvw','xyz']\n",
    "print(k)"
   ]
  },
  {
   "cell_type": "code",
   "execution_count": 56,
   "metadata": {},
   "outputs": [
    {
     "name": "stdout",
     "output_type": "stream",
     "text": [
      "[1, 2, 100, 3, 4, 5]\n"
     ]
    }
   ],
   "source": [
    "#was to concat the new value to the middle of the gien list\n",
    "l=[1,2,3,4,5]\n",
    "l[len(l)//2:len(l)//2]=[100]\n",
    "print(l)"
   ]
  },
  {
   "cell_type": "code",
   "execution_count": 62,
   "metadata": {},
   "outputs": [
    {
     "name": "stdout",
     "output_type": "stream",
     "text": [
      "[10, 20, 55, 'a', 'b']\n"
     ]
    }
   ],
   "source": [
    "#was to concat the new value to the specific position of the gien list\n",
    "m=[10,20,'a','b']\n",
    "m[-2:2]=[55]\n",
    "print(m)"
   ]
  },
  {
   "cell_type": "code",
   "execution_count": 63,
   "metadata": {},
   "outputs": [
    {
     "name": "stdout",
     "output_type": "stream",
     "text": [
      "[1, 20, {'a': 10}, 'a']\n"
     ]
    }
   ],
   "source": [
    "#was to modify the new value to the specifc position of the gien list\n",
    "n=[1,20,300,'a']\n",
    "n[2]={'a':10}\n",
    "print(n)"
   ]
  },
  {
   "cell_type": "code",
   "execution_count": 65,
   "metadata": {},
   "outputs": [
    {
     "name": "stdout",
     "output_type": "stream",
     "text": [
      "['b', 2, 3, 4, 5]\n"
     ]
    }
   ],
   "source": [
    "#was to modify the new value to the starting of the gien list\n",
    "o=[1,2,3,4,5]\n",
    "o[0]='b'\n",
    "print(o)"
   ]
  },
  {
   "cell_type": "code",
   "execution_count": 75,
   "metadata": {},
   "outputs": [
    {
     "name": "stdout",
     "output_type": "stream",
     "text": [
      "['a', {'b': 15}, 10, '5+j']\n"
     ]
    }
   ],
   "source": [
    "#was to modify the new value to the ending of the gien list\n",
    "p=['a',{'b':15},10,5]\n",
    "p[-1]='5+j'\n",
    "print(p)"
   ]
  },
  {
   "cell_type": "code",
   "execution_count": 76,
   "metadata": {},
   "outputs": [
    {
     "name": "stdout",
     "output_type": "stream",
     "text": [
      "[1, 2.5, (5+2j), {10: 30}, 'abc', 100]\n"
     ]
    }
   ],
   "source": [
    "#was to modify the middle value to the starting of the gien list\n",
    "q=[1,2.5,5+2j,True,'abc',100]\n",
    "q[len(q)//2]={10:30}\n",
    "print(q)"
   ]
  },
  {
   "cell_type": "code",
   "execution_count": 77,
   "metadata": {},
   "outputs": [
    {
     "name": "stdout",
     "output_type": "stream",
     "text": [
      "['a', 10.14, 100, 5]\n"
     ]
    }
   ],
   "source": [
    "#was to modify the first 4 position values to the starting of the gien list\n",
    "r=[1,2,3,4,5,5]\n",
    "r[0:5]=['a',10.14,100]\n",
    "print(r)"
   ]
  },
  {
   "cell_type": "code",
   "execution_count": 78,
   "metadata": {},
   "outputs": [
    {
     "name": "stdout",
     "output_type": "stream",
     "text": [
      "[1, 2, 'a', 'd', 'r', 'e', 6, 7, 8]\n"
     ]
    }
   ],
   "source": [
    "#was to modify the sequence of values  in the gien list\n",
    "s=[1,2,3,4,5,6,7,8]\n",
    "s[2:5]=['a','d','r','e']\n",
    "print(s)"
   ]
  }
 ],
 "metadata": {
  "kernelspec": {
   "display_name": "Python 3",
   "language": "python",
   "name": "python3"
  },
  "language_info": {
   "codemirror_mode": {
    "name": "ipython",
    "version": 3
   },
   "file_extension": ".py",
   "mimetype": "text/x-python",
   "name": "python",
   "nbconvert_exporter": "python",
   "pygments_lexer": "ipython3",
   "version": "3.11.4"
  },
  "orig_nbformat": 4
 },
 "nbformat": 4,
 "nbformat_minor": 2
}
